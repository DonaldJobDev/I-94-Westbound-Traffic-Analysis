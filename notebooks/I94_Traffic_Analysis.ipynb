{
 "cells": [
  {
   "cell_type": "markdown",
   "metadata": {},
   "source": [
    "# I-94 Westbound Traffic Analysis\n",
    "\n",
    "This project focuses on analyzing traffic data collected from the westbound lanes of the I-94 Interstate highway. The dataset, provided by John Hogue, contains information on traffic flow along with several potential factors that might influence congestion, such as weather conditions, time of day, and day of the week.\n",
    "\n",
    "The main goal of this analysis is to identify patterns and indicators that contribute to heavier traffic on I-94, such as seasonal changes or specific weather events. By gaining insights into these factors, we can better understand traffic trends and potentially inform transportation planning or improve traffic management strategies."
   ]
  },
  {
   "cell_type": "markdown",
   "metadata": {},
   "source": [
    "### Description of the dataset:\n",
    "\n",
    "| Variable Name        | Role       | Type          | Description                                                                 | Units   | Missing Values |\n",
    "|----------------------|------------|---------------|-----------------------------------------------------------------------------|---------|----------------|\n",
    "| holiday              | Feature    | Categorical   | US National holidays plus regional holiday, Minnesota State Fair           | no      | no             |\n",
    "| temp                 | Feature    | Continuous    | Average temp in kelvin                                                      | Kelvin  | no             |\n",
    "| rain_1h              | Feature    | Continuous    | Amount in mm of rain that occurred in the hour                              | mm      | no             |\n",
    "| snow_1h              | Feature    | Continuous    | Amount in mm of snow that occurred in the hour                              | mm      | no             |\n",
    "| clouds_all           | Feature    | Integer       | Percentage of cloud cover                                                  | %       | no             |\n",
    "| weather_main         | Feature    | Categorical   | Short textual description of the current weather                           | no      | no             |\n",
    "| weather_description  | Feature    | Categorical   | Longer textual description of the current weather                          | no      | no             |\n",
    "| date_time            | Feature    | Date          | Hour of the data collected in local CST time                               | no      | no             |\n",
    "| traffic_volume       | Target     | Integer       | Hourly I-94 ATR 301 reported westbound traffic volume                      | no      | no             |\n",
    "\n",
    "**Note:** The \"no\" value under \"Units\" indicates the variable has no applicable unit (e.g., categorical or date types). The \"no\" under \"Missing Values\" confirms no missing data in the dataset."
   ]
  },
  {
   "cell_type": "code",
   "execution_count": 1,
   "metadata": {},
   "outputs": [
    {
     "ename": "FileNotFoundError",
     "evalue": "[Errno 2] No such file or directory: 'Metro_Interstate_Traffic_Volume.csv'",
     "output_type": "error",
     "traceback": [
      "\u001b[1;31m---------------------------------------------------------------------------\u001b[0m",
      "\u001b[1;31mFileNotFoundError\u001b[0m                         Traceback (most recent call last)",
      "Cell \u001b[1;32mIn[1], line 5\u001b[0m\n\u001b[0;32m      2\u001b[0m \u001b[38;5;28;01mimport\u001b[39;00m \u001b[38;5;21;01mpandas\u001b[39;00m \u001b[38;5;28;01mas\u001b[39;00m \u001b[38;5;21;01mpd\u001b[39;00m\n\u001b[0;32m      4\u001b[0m \u001b[38;5;66;03m# Load the dataset from a CSV file into a DataFrame\u001b[39;00m\n\u001b[1;32m----> 5\u001b[0m traffic \u001b[38;5;241m=\u001b[39m \u001b[43mpd\u001b[49m\u001b[38;5;241;43m.\u001b[39;49m\u001b[43mread_csv\u001b[49m\u001b[43m(\u001b[49m\u001b[38;5;124;43m'\u001b[39;49m\u001b[38;5;124;43mMetro_Interstate_Traffic_Volume.csv\u001b[39;49m\u001b[38;5;124;43m'\u001b[39;49m\u001b[43m)\u001b[49m\n",
      "File \u001b[1;32m~\\AppData\\Local\\Programs\\Python\\Python313\\Lib\\site-packages\\pandas\\io\\parsers\\readers.py:1026\u001b[0m, in \u001b[0;36mread_csv\u001b[1;34m(filepath_or_buffer, sep, delimiter, header, names, index_col, usecols, dtype, engine, converters, true_values, false_values, skipinitialspace, skiprows, skipfooter, nrows, na_values, keep_default_na, na_filter, verbose, skip_blank_lines, parse_dates, infer_datetime_format, keep_date_col, date_parser, date_format, dayfirst, cache_dates, iterator, chunksize, compression, thousands, decimal, lineterminator, quotechar, quoting, doublequote, escapechar, comment, encoding, encoding_errors, dialect, on_bad_lines, delim_whitespace, low_memory, memory_map, float_precision, storage_options, dtype_backend)\u001b[0m\n\u001b[0;32m   1013\u001b[0m kwds_defaults \u001b[38;5;241m=\u001b[39m _refine_defaults_read(\n\u001b[0;32m   1014\u001b[0m     dialect,\n\u001b[0;32m   1015\u001b[0m     delimiter,\n\u001b[1;32m   (...)\u001b[0m\n\u001b[0;32m   1022\u001b[0m     dtype_backend\u001b[38;5;241m=\u001b[39mdtype_backend,\n\u001b[0;32m   1023\u001b[0m )\n\u001b[0;32m   1024\u001b[0m kwds\u001b[38;5;241m.\u001b[39mupdate(kwds_defaults)\n\u001b[1;32m-> 1026\u001b[0m \u001b[38;5;28;01mreturn\u001b[39;00m \u001b[43m_read\u001b[49m\u001b[43m(\u001b[49m\u001b[43mfilepath_or_buffer\u001b[49m\u001b[43m,\u001b[49m\u001b[43m \u001b[49m\u001b[43mkwds\u001b[49m\u001b[43m)\u001b[49m\n",
      "File \u001b[1;32m~\\AppData\\Local\\Programs\\Python\\Python313\\Lib\\site-packages\\pandas\\io\\parsers\\readers.py:620\u001b[0m, in \u001b[0;36m_read\u001b[1;34m(filepath_or_buffer, kwds)\u001b[0m\n\u001b[0;32m    617\u001b[0m _validate_names(kwds\u001b[38;5;241m.\u001b[39mget(\u001b[38;5;124m\"\u001b[39m\u001b[38;5;124mnames\u001b[39m\u001b[38;5;124m\"\u001b[39m, \u001b[38;5;28;01mNone\u001b[39;00m))\n\u001b[0;32m    619\u001b[0m \u001b[38;5;66;03m# Create the parser.\u001b[39;00m\n\u001b[1;32m--> 620\u001b[0m parser \u001b[38;5;241m=\u001b[39m \u001b[43mTextFileReader\u001b[49m\u001b[43m(\u001b[49m\u001b[43mfilepath_or_buffer\u001b[49m\u001b[43m,\u001b[49m\u001b[43m \u001b[49m\u001b[38;5;241;43m*\u001b[39;49m\u001b[38;5;241;43m*\u001b[39;49m\u001b[43mkwds\u001b[49m\u001b[43m)\u001b[49m\n\u001b[0;32m    622\u001b[0m \u001b[38;5;28;01mif\u001b[39;00m chunksize \u001b[38;5;129;01mor\u001b[39;00m iterator:\n\u001b[0;32m    623\u001b[0m     \u001b[38;5;28;01mreturn\u001b[39;00m parser\n",
      "File \u001b[1;32m~\\AppData\\Local\\Programs\\Python\\Python313\\Lib\\site-packages\\pandas\\io\\parsers\\readers.py:1620\u001b[0m, in \u001b[0;36mTextFileReader.__init__\u001b[1;34m(self, f, engine, **kwds)\u001b[0m\n\u001b[0;32m   1617\u001b[0m     \u001b[38;5;28mself\u001b[39m\u001b[38;5;241m.\u001b[39moptions[\u001b[38;5;124m\"\u001b[39m\u001b[38;5;124mhas_index_names\u001b[39m\u001b[38;5;124m\"\u001b[39m] \u001b[38;5;241m=\u001b[39m kwds[\u001b[38;5;124m\"\u001b[39m\u001b[38;5;124mhas_index_names\u001b[39m\u001b[38;5;124m\"\u001b[39m]\n\u001b[0;32m   1619\u001b[0m \u001b[38;5;28mself\u001b[39m\u001b[38;5;241m.\u001b[39mhandles: IOHandles \u001b[38;5;241m|\u001b[39m \u001b[38;5;28;01mNone\u001b[39;00m \u001b[38;5;241m=\u001b[39m \u001b[38;5;28;01mNone\u001b[39;00m\n\u001b[1;32m-> 1620\u001b[0m \u001b[38;5;28mself\u001b[39m\u001b[38;5;241m.\u001b[39m_engine \u001b[38;5;241m=\u001b[39m \u001b[38;5;28;43mself\u001b[39;49m\u001b[38;5;241;43m.\u001b[39;49m\u001b[43m_make_engine\u001b[49m\u001b[43m(\u001b[49m\u001b[43mf\u001b[49m\u001b[43m,\u001b[49m\u001b[43m \u001b[49m\u001b[38;5;28;43mself\u001b[39;49m\u001b[38;5;241;43m.\u001b[39;49m\u001b[43mengine\u001b[49m\u001b[43m)\u001b[49m\n",
      "File \u001b[1;32m~\\AppData\\Local\\Programs\\Python\\Python313\\Lib\\site-packages\\pandas\\io\\parsers\\readers.py:1880\u001b[0m, in \u001b[0;36mTextFileReader._make_engine\u001b[1;34m(self, f, engine)\u001b[0m\n\u001b[0;32m   1878\u001b[0m     \u001b[38;5;28;01mif\u001b[39;00m \u001b[38;5;124m\"\u001b[39m\u001b[38;5;124mb\u001b[39m\u001b[38;5;124m\"\u001b[39m \u001b[38;5;129;01mnot\u001b[39;00m \u001b[38;5;129;01min\u001b[39;00m mode:\n\u001b[0;32m   1879\u001b[0m         mode \u001b[38;5;241m+\u001b[39m\u001b[38;5;241m=\u001b[39m \u001b[38;5;124m\"\u001b[39m\u001b[38;5;124mb\u001b[39m\u001b[38;5;124m\"\u001b[39m\n\u001b[1;32m-> 1880\u001b[0m \u001b[38;5;28mself\u001b[39m\u001b[38;5;241m.\u001b[39mhandles \u001b[38;5;241m=\u001b[39m \u001b[43mget_handle\u001b[49m\u001b[43m(\u001b[49m\n\u001b[0;32m   1881\u001b[0m \u001b[43m    \u001b[49m\u001b[43mf\u001b[49m\u001b[43m,\u001b[49m\n\u001b[0;32m   1882\u001b[0m \u001b[43m    \u001b[49m\u001b[43mmode\u001b[49m\u001b[43m,\u001b[49m\n\u001b[0;32m   1883\u001b[0m \u001b[43m    \u001b[49m\u001b[43mencoding\u001b[49m\u001b[38;5;241;43m=\u001b[39;49m\u001b[38;5;28;43mself\u001b[39;49m\u001b[38;5;241;43m.\u001b[39;49m\u001b[43moptions\u001b[49m\u001b[38;5;241;43m.\u001b[39;49m\u001b[43mget\u001b[49m\u001b[43m(\u001b[49m\u001b[38;5;124;43m\"\u001b[39;49m\u001b[38;5;124;43mencoding\u001b[39;49m\u001b[38;5;124;43m\"\u001b[39;49m\u001b[43m,\u001b[49m\u001b[43m \u001b[49m\u001b[38;5;28;43;01mNone\u001b[39;49;00m\u001b[43m)\u001b[49m\u001b[43m,\u001b[49m\n\u001b[0;32m   1884\u001b[0m \u001b[43m    \u001b[49m\u001b[43mcompression\u001b[49m\u001b[38;5;241;43m=\u001b[39;49m\u001b[38;5;28;43mself\u001b[39;49m\u001b[38;5;241;43m.\u001b[39;49m\u001b[43moptions\u001b[49m\u001b[38;5;241;43m.\u001b[39;49m\u001b[43mget\u001b[49m\u001b[43m(\u001b[49m\u001b[38;5;124;43m\"\u001b[39;49m\u001b[38;5;124;43mcompression\u001b[39;49m\u001b[38;5;124;43m\"\u001b[39;49m\u001b[43m,\u001b[49m\u001b[43m \u001b[49m\u001b[38;5;28;43;01mNone\u001b[39;49;00m\u001b[43m)\u001b[49m\u001b[43m,\u001b[49m\n\u001b[0;32m   1885\u001b[0m \u001b[43m    \u001b[49m\u001b[43mmemory_map\u001b[49m\u001b[38;5;241;43m=\u001b[39;49m\u001b[38;5;28;43mself\u001b[39;49m\u001b[38;5;241;43m.\u001b[39;49m\u001b[43moptions\u001b[49m\u001b[38;5;241;43m.\u001b[39;49m\u001b[43mget\u001b[49m\u001b[43m(\u001b[49m\u001b[38;5;124;43m\"\u001b[39;49m\u001b[38;5;124;43mmemory_map\u001b[39;49m\u001b[38;5;124;43m\"\u001b[39;49m\u001b[43m,\u001b[49m\u001b[43m \u001b[49m\u001b[38;5;28;43;01mFalse\u001b[39;49;00m\u001b[43m)\u001b[49m\u001b[43m,\u001b[49m\n\u001b[0;32m   1886\u001b[0m \u001b[43m    \u001b[49m\u001b[43mis_text\u001b[49m\u001b[38;5;241;43m=\u001b[39;49m\u001b[43mis_text\u001b[49m\u001b[43m,\u001b[49m\n\u001b[0;32m   1887\u001b[0m \u001b[43m    \u001b[49m\u001b[43merrors\u001b[49m\u001b[38;5;241;43m=\u001b[39;49m\u001b[38;5;28;43mself\u001b[39;49m\u001b[38;5;241;43m.\u001b[39;49m\u001b[43moptions\u001b[49m\u001b[38;5;241;43m.\u001b[39;49m\u001b[43mget\u001b[49m\u001b[43m(\u001b[49m\u001b[38;5;124;43m\"\u001b[39;49m\u001b[38;5;124;43mencoding_errors\u001b[39;49m\u001b[38;5;124;43m\"\u001b[39;49m\u001b[43m,\u001b[49m\u001b[43m \u001b[49m\u001b[38;5;124;43m\"\u001b[39;49m\u001b[38;5;124;43mstrict\u001b[39;49m\u001b[38;5;124;43m\"\u001b[39;49m\u001b[43m)\u001b[49m\u001b[43m,\u001b[49m\n\u001b[0;32m   1888\u001b[0m \u001b[43m    \u001b[49m\u001b[43mstorage_options\u001b[49m\u001b[38;5;241;43m=\u001b[39;49m\u001b[38;5;28;43mself\u001b[39;49m\u001b[38;5;241;43m.\u001b[39;49m\u001b[43moptions\u001b[49m\u001b[38;5;241;43m.\u001b[39;49m\u001b[43mget\u001b[49m\u001b[43m(\u001b[49m\u001b[38;5;124;43m\"\u001b[39;49m\u001b[38;5;124;43mstorage_options\u001b[39;49m\u001b[38;5;124;43m\"\u001b[39;49m\u001b[43m,\u001b[49m\u001b[43m \u001b[49m\u001b[38;5;28;43;01mNone\u001b[39;49;00m\u001b[43m)\u001b[49m\u001b[43m,\u001b[49m\n\u001b[0;32m   1889\u001b[0m \u001b[43m\u001b[49m\u001b[43m)\u001b[49m\n\u001b[0;32m   1890\u001b[0m \u001b[38;5;28;01massert\u001b[39;00m \u001b[38;5;28mself\u001b[39m\u001b[38;5;241m.\u001b[39mhandles \u001b[38;5;129;01mis\u001b[39;00m \u001b[38;5;129;01mnot\u001b[39;00m \u001b[38;5;28;01mNone\u001b[39;00m\n\u001b[0;32m   1891\u001b[0m f \u001b[38;5;241m=\u001b[39m \u001b[38;5;28mself\u001b[39m\u001b[38;5;241m.\u001b[39mhandles\u001b[38;5;241m.\u001b[39mhandle\n",
      "File \u001b[1;32m~\\AppData\\Local\\Programs\\Python\\Python313\\Lib\\site-packages\\pandas\\io\\common.py:873\u001b[0m, in \u001b[0;36mget_handle\u001b[1;34m(path_or_buf, mode, encoding, compression, memory_map, is_text, errors, storage_options)\u001b[0m\n\u001b[0;32m    868\u001b[0m \u001b[38;5;28;01melif\u001b[39;00m \u001b[38;5;28misinstance\u001b[39m(handle, \u001b[38;5;28mstr\u001b[39m):\n\u001b[0;32m    869\u001b[0m     \u001b[38;5;66;03m# Check whether the filename is to be opened in binary mode.\u001b[39;00m\n\u001b[0;32m    870\u001b[0m     \u001b[38;5;66;03m# Binary mode does not support 'encoding' and 'newline'.\u001b[39;00m\n\u001b[0;32m    871\u001b[0m     \u001b[38;5;28;01mif\u001b[39;00m ioargs\u001b[38;5;241m.\u001b[39mencoding \u001b[38;5;129;01mand\u001b[39;00m \u001b[38;5;124m\"\u001b[39m\u001b[38;5;124mb\u001b[39m\u001b[38;5;124m\"\u001b[39m \u001b[38;5;129;01mnot\u001b[39;00m \u001b[38;5;129;01min\u001b[39;00m ioargs\u001b[38;5;241m.\u001b[39mmode:\n\u001b[0;32m    872\u001b[0m         \u001b[38;5;66;03m# Encoding\u001b[39;00m\n\u001b[1;32m--> 873\u001b[0m         handle \u001b[38;5;241m=\u001b[39m \u001b[38;5;28;43mopen\u001b[39;49m\u001b[43m(\u001b[49m\n\u001b[0;32m    874\u001b[0m \u001b[43m            \u001b[49m\u001b[43mhandle\u001b[49m\u001b[43m,\u001b[49m\n\u001b[0;32m    875\u001b[0m \u001b[43m            \u001b[49m\u001b[43mioargs\u001b[49m\u001b[38;5;241;43m.\u001b[39;49m\u001b[43mmode\u001b[49m\u001b[43m,\u001b[49m\n\u001b[0;32m    876\u001b[0m \u001b[43m            \u001b[49m\u001b[43mencoding\u001b[49m\u001b[38;5;241;43m=\u001b[39;49m\u001b[43mioargs\u001b[49m\u001b[38;5;241;43m.\u001b[39;49m\u001b[43mencoding\u001b[49m\u001b[43m,\u001b[49m\n\u001b[0;32m    877\u001b[0m \u001b[43m            \u001b[49m\u001b[43merrors\u001b[49m\u001b[38;5;241;43m=\u001b[39;49m\u001b[43merrors\u001b[49m\u001b[43m,\u001b[49m\n\u001b[0;32m    878\u001b[0m \u001b[43m            \u001b[49m\u001b[43mnewline\u001b[49m\u001b[38;5;241;43m=\u001b[39;49m\u001b[38;5;124;43m\"\u001b[39;49m\u001b[38;5;124;43m\"\u001b[39;49m\u001b[43m,\u001b[49m\n\u001b[0;32m    879\u001b[0m \u001b[43m        \u001b[49m\u001b[43m)\u001b[49m\n\u001b[0;32m    880\u001b[0m     \u001b[38;5;28;01melse\u001b[39;00m:\n\u001b[0;32m    881\u001b[0m         \u001b[38;5;66;03m# Binary mode\u001b[39;00m\n\u001b[0;32m    882\u001b[0m         handle \u001b[38;5;241m=\u001b[39m \u001b[38;5;28mopen\u001b[39m(handle, ioargs\u001b[38;5;241m.\u001b[39mmode)\n",
      "\u001b[1;31mFileNotFoundError\u001b[0m: [Errno 2] No such file or directory: 'Metro_Interstate_Traffic_Volume.csv'"
     ]
    }
   ],
   "source": [
    "# Import necessary libraries for data manipulation\n",
    "import pandas as pd\n",
    "\n",
    "# Load the dataset from a CSV file into a DataFrame\n",
    "traffic = pd.read_csv('Metro_Interstate_Traffic_Volume.csv')"
   ]
  },
  {
   "cell_type": "code",
   "execution_count": null,
   "metadata": {},
   "outputs": [],
   "source": [
    "# We examine the first and last five rows\n",
    "traffic"
   ]
  },
  {
   "cell_type": "code",
   "execution_count": null,
   "metadata": {},
   "outputs": [],
   "source": [
    "# to find more information about the dataset.\n",
    "traffic.info()"
   ]
  },
  {
   "cell_type": "code",
   "execution_count": null,
   "metadata": {},
   "outputs": [],
   "source": [
    "# inquire the number of NAN values\n",
    "traffic.isnull().sum()"
   ]
  },
  {
   "cell_type": "markdown",
   "metadata": {},
   "source": [
    "### Initial Exploratory data visualization"
   ]
  },
  {
   "cell_type": "code",
   "execution_count": null,
   "metadata": {},
   "outputs": [],
   "source": [
    "# Import necessary library for data visualization\n",
    "import matplotlib.pyplot as plt\n",
    "\n",
    "# A Jupyter command that ensures matplotlib plots are embedded directly in the notebook instead of a pop-up window. \n",
    "%matplotlib inline"
   ]
  },
  {
   "cell_type": "markdown",
   "metadata": {},
   "source": [
    "### We examine the  distribution of `traffic_volume` column"
   ]
  },
  {
   "cell_type": "code",
   "execution_count": null,
   "metadata": {},
   "outputs": [],
   "source": [
    "# Construct a historigram to examine the distribution of values in the traffic volume column\n",
    "traffic['traffic_volume'].plot.hist(bins=30,\n",
    "                                    color='lightgreen',\n",
    "                                    edgecolor='black')\n",
    "\n",
    "\n",
    "# Label axes and title to clarify the histogram's purpose  \n",
    "plt.xlabel('Traffic Volume')\n",
    "plt.ylabel('Frequency')\n",
    "plt.title('Distribution of Hourly Traffic Volume on I-94 Westbound')\n",
    "\n",
    "# Render the plot to analyze traffic patterns \n",
    "plt.show()"
   ]
  },
  {
   "cell_type": "code",
   "execution_count": null,
   "metadata": {},
   "outputs": [],
   "source": [
    "# Inspection of statistical description to have a side by side comparison with the graph\n",
    "traffic['traffic_volume'].describe()"
   ]
  },
  {
   "cell_type": "markdown",
   "metadata": {},
   "source": [
    "### Key observations :\n",
    "**Bimodal Distribution:** Two peaks (0-1000 and ~5000) imply two dominant traffic scenarios:\n",
    "- Low Traffic: Possibly nighttime or off-peak hours.\n",
    "- High Traffic: Rush hours (e.g., 8 AM or 5 PM).\n",
    "### Possible action :\n",
    "- Inquire the relationship between the time of the day and the volume of the traffic.\n",
    "- Observe if the traffic is higher in the middle of the week and lower in the weekend or vice versa."
   ]
  },
  {
   "cell_type": "markdown",
   "metadata": {},
   "source": [
    "# Traffic Volume Analysis: Day vs. Night (I-94 Westbound)  \n",
    "\n",
    "## Methodology  \n",
    "1. **Data Preparation**:  \n",
    "   - Converted `date_time` to datetime format.  \n",
    "   - Segmented data into:  \n",
    "     - **Daytime**: 7 AM – 7 PM (rush hour focus).  \n",
    "     - **Nighttime**: 7 PM – 7 AM (off-peak focus).  "
   ]
  },
  {
   "cell_type": "code",
   "execution_count": null,
   "metadata": {},
   "outputs": [],
   "source": [
    "# Convert 'data_time' to datetime to enable time-based operations  \n",
    "traffic['date_time'] = pd.to_datetime(traffic['date_time'])  \n",
    "\n",
    "# Extract hour from datetime to categorize day/night  \n",
    "traffic['hour'] = traffic['date_time'].dt.hour  \n",
    "\n",
    "# Split data into daytime (7 AM–7 PM) and nighttime (7 PM–7 AM)  \n",
    "daytime_data = traffic[(traffic['hour'] >= 7) & (traffic['hour'] < 19)].copy()  \n",
    "nighttime_data = traffic[(traffic['hour'] >= 19) | (traffic['hour'] < 7)].copy()  "
   ]
  },
  {
   "cell_type": "markdown",
   "metadata": {},
   "source": [
    "2. **Visual Comparison**:  \n",
    "   - Histograms with identical axes for direct comparison.   "
   ]
  },
  {
   "cell_type": "code",
   "execution_count": null,
   "metadata": {},
   "outputs": [],
   "source": [
    "# Set up the figure size for the entire plot (width, height)\n",
    "plt.figure(figsize=(8,4))\n",
    "\n",
    "# -------------------------------\n",
    "# Subplot 1: Daytime Traffic\n",
    "# -------------------------------\n",
    "plt.subplot(1,2,1) # 1 row, 2 columns, activate 1st subplot\n",
    "\n",
    "# Create histogram for daytime traffic data\n",
    "plt.hist(daytime_data['traffic_volume'],\n",
    "         bins=30,\n",
    "         color='skyblue',        # Light blue fill\n",
    "         edgecolor='black')      # Black borders for bars\n",
    "\n",
    "# Labels and formatting\n",
    "plt.title('Day Traffic Volume')  # Subplot title\n",
    "plt.xlabel('Traffic Volume')     # X-axis label\n",
    "plt.ylabel('Frequency')          # Y-axis label\n",
    "plt.xlim(0, max(traffic['traffic_volume']) + 1000)  # Set x-axis range (aligns both plots)\n",
    "plt.ylim(0,5000)                 # Set consistent y-axis range for comparison\n",
    "\n",
    "# -------------------------------\n",
    "# Subplot 2: Nighttime Traffic\n",
    "# -------------------------------\n",
    "plt.subplot(1,2,2) # Activate 2nd subplot\n",
    "\n",
    "# Create histogram for nighttime traffic data\n",
    "plt.hist(nighttime_data['traffic_volume'],\n",
    "         bins=30,\n",
    "         color='salmon',         # Light red/orange fill\n",
    "         edgecolor='black')      # Black borders for bars\n",
    "\n",
    "# Labels and formatting\n",
    "plt.title('Night Traffic Volume')\n",
    "plt.xlabel('Traffic Volume')\n",
    "plt.ylabel('Frequency')\n",
    "plt.xlim(0, max(traffic['traffic_volume']) + 1000)  # Match x-axis with daytime plot\n",
    "plt.ylim(0,5000)                 # Match y-axis with daytime plot\n",
    "# -------------------------------\n",
    "# Final Adjustments\n",
    "# -------------------------------\n",
    "plt.tight_layout()               # Automatically adjust spacing between subplots\n",
    "plt.show()                       # Render the entire figure"
   ]
  },
  {
   "cell_type": "code",
   "execution_count": null,
   "metadata": {},
   "outputs": [],
   "source": [
    "daytime_data['traffic_volume'].describe()"
   ]
  },
  {
   "cell_type": "code",
   "execution_count": null,
   "metadata": {},
   "outputs": [],
   "source": [
    "nighttime_data['traffic_volume'].describe()"
   ]
  },
  {
   "cell_type": "markdown",
   "metadata": {
    "tags": []
   },
   "source": [
    "## Key Findings Traffic Volume observation\n",
    "\n",
    "### Daytime Traffic\n",
    "#### 1- Dominant Peak Hours:\n",
    "- Traffic volume peaks at **~8,000 vehicles/hour**, indicating heavy congestion during **rush hours (7 AM–7 PM)**.\n",
    "- Two distinct peaks suggest morning **(8–9 AM)** and evening **(5–6 PM)** rush periods.\n",
    "\n",
    "#### 2- High Variability:\n",
    "- Broad distribution reflects fluctuating traffic (e.g., commuter patterns, weather disruptions).\n",
    "\n",
    "---\n",
    "\n",
    "### Nighttime Traffic\n",
    "#### 1- Consistently Lower Volume:\n",
    "- Traffic rarely exceeds **~6,000 vehicles/hour**, with most observations clustered below **4,000 vehicles/hour.**\n",
    "- Single peak suggests steady, low-volume flow (e.g., night shifts, freight transport).\n",
    "\n",
    "#### 2- Predictable Patterns:\n",
    "- Narrow distribution implies fewer disruptions compared to daytime."
   ]
  },
  {
   "cell_type": "markdown",
   "metadata": {},
   "source": [
    "# Time Indicators"
   ]
  },
  {
   "cell_type": "markdown",
   "metadata": {},
   "source": [
    "Our goal is to find indicators of heavy traffic, so **we decided to only focus on the daytime data** moving forward.  \n",
    "One of the possible indicators of heavy traffic is time. **There might be more people on the road in a certain month, on a certain day, or at a certain time of the day.**  \n",
    "We're going to look at a few line plots showing how the traffic volume changed according to the following parameters:\n",
    "\n",
    "- Month\n",
    "- Day of the week\n",
    "- Time of day\n",
    "\n",
    "## Unit 1 : Month"
   ]
  },
  {
   "cell_type": "code",
   "execution_count": null,
   "metadata": {},
   "outputs": [],
   "source": [
    "# Extract the month from the 'date_time' column and create a new 'month' column\n",
    "daytime_data['month'] = daytime_data['date_time'].dt.month\n",
    "\n",
    "# Group data by month and calculate mean values for all numeric columns\n",
    "by_month = daytime_data.groupby('month').mean(numeric_only=True)\n",
    "\n",
    "# Display only the average traffic volume per month\n",
    "by_month['traffic_volume']"
   ]
  },
  {
   "cell_type": "code",
   "execution_count": null,
   "metadata": {},
   "outputs": [],
   "source": [
    "# Create line plot for weekly pattern\n",
    "by_month['traffic_volume'].plot.line(\n",
    "    x='month',\n",
    "    y='traffic_volume'\n",
    ")\n",
    "\n",
    "plt.title('Mean Traffic Volume by Month')\n",
    "plt.xlabel('Months')\n",
    "plt.ylabel('Average Vehicles/Hour')\n",
    "plt.grid(True)\n",
    "plt.show()"
   ]
  },
  {
   "cell_type": "markdown",
   "metadata": {},
   "source": [
    "## Observations\n",
    "### Monthly Traffic Pattern\n",
    "\n",
    "#### 1. Peak Seasons:\n",
    "- Highest traffic from **March (3)** to **October (10)** (~4850-4920 vehicles/month).\n",
    "- Peak month: **May (5) at 4,911 vehicles**.\n",
    "#### 2. Low Seasons:\n",
    "- Sharp drop in **July (7)** (4,595) - possibly due to summer vacation effect.\n",
    "- Lowest in **December (12)** (4,374) - holiday season/winter weather impact.\n",
    "#### 3. Commuter Pattern:\n",
    "- Consistent high volumes March-October suggest **work-related commuting** dominates.\n",
    "- 8% drop from May to December **implies seasonal behavior changes**."
   ]
  },
  {
   "cell_type": "markdown",
   "metadata": {},
   "source": [
    "## Unit 2 : Day of the week"
   ]
  },
  {
   "cell_type": "code",
   "execution_count": null,
   "metadata": {},
   "outputs": [],
   "source": [
    "# Extract day of week (0=Monday, 6=Sunday) from datetime column\n",
    "daytime_data['dayofweek'] = daytime_data['date_time'].dt.dayofweek\n",
    "\n",
    "# Group data by day of week and calculate mean traffic volume\n",
    "by_dayofweek = daytime_data.groupby('dayofweek').mean(numeric_only=True)\n",
    "\n",
    "# Display average traffic volume for each weekday\n",
    "by_dayofweek['traffic_volume'] # 0 is Monday, 6 is Sunday"
   ]
  },
  {
   "cell_type": "code",
   "execution_count": null,
   "metadata": {},
   "outputs": [],
   "source": [
    "# Create line plot for weekly pattern\n",
    "by_dayofweek['traffic_volume'].plot.line(\n",
    "    x='dayofweek',\n",
    "    y='traffic_volume'\n",
    ")\n",
    "\n",
    "plt.title('Mean Traffic Volume by Day of Week') \n",
    "plt.xlabel('Day of Week') \n",
    "plt.ylabel('Average Vehicles/Hour')\n",
    "plt.xticks(range(0,7), ['Mon','Tue','Wed','Thu','Fri','Sat','Sun'])  # Convert numbers to labels\n",
    "plt.grid(True)\n",
    "plt.show()"
   ]
  },
  {
   "cell_type": "markdown",
   "metadata": {
    "tags": []
   },
   "source": [
    "---\n",
    "## Observations\n",
    "### Weekly Traffic Pattern Analysis\n",
    "\n",
    "- **Workday Surge** 📈\n",
    "  - Peak traffic on **Wednesday (3)** at **5,311 vehicles**\n",
    "  - Consistent high volume **Monday-Friday (~4,900-5,300)**\n",
    "\n",
    "- **Weekend Drop 📉**\n",
    "  - 26% decrease on **Saturday (5)** (3,927)\n",
    "  - 34% decrease on **Sunday (6)** (3,436)\n",
    "---"
   ]
  },
  {
   "cell_type": "markdown",
   "metadata": {},
   "source": [
    "## Unit 3 : Time of day (Hour)"
   ]
  },
  {
   "cell_type": "markdown",
   "metadata": {},
   "source": [
    "We'll now generate a line plot for the time of day.  \n",
    "The weekends, however, will drag down the average values, so we're going to look at the averages separately.  \n",
    "To do that, we'll start by splitting the data based on the day type: business day or weekend."
   ]
  },
  {
   "cell_type": "code",
   "execution_count": null,
   "metadata": {},
   "outputs": [],
   "source": [
    "daytime_data['hour'] = daytime_data['date_time'].dt.hour\n",
    "business_days = daytime_data.copy()[daytime_data['dayofweek'] <= 4] # 4 == Friday\n",
    "weekend = daytime_data.copy()[daytime_data['dayofweek'] >= 5] # 5 == Saturday\n",
    "\n",
    "by_hour_business = business_days.groupby('hour').mean(numeric_only=True)\n",
    "by_hour_weekend = weekend.groupby('hour').mean(numeric_only=True)\n",
    "\n",
    "print('Average number of vehicles each hour on businessday')\n",
    "print(by_hour_business['traffic_volume'])\n",
    "print('\\n')\n",
    "print('Average number of vehicles each hour on weekend')\n",
    "print(by_hour_weekend['traffic_volume'])"
   ]
  },
  {
   "cell_type": "code",
   "execution_count": null,
   "metadata": {},
   "outputs": [],
   "source": [
    "plt.figure(figsize=(6, 3))\n",
    "\n",
    "# Business Days Plot\n",
    "plt.subplot(1,2,1)\n",
    "\n",
    "plt.plot(\n",
    "    by_hour_business['traffic_volume'],\n",
    "    marker='o',\n",
    "    linestyle='-'\n",
    ")\n",
    "plt.grid(True)\n",
    "plt.title('Mean Traffic Volume per \\n Hour on Business day')\n",
    "plt.xlabel('Time of Day (Hour)')\n",
    "plt.ylabel('Average Vehicle/Hour')\n",
    "plt.ylim(1500, 7000)  # Keep scales identical for fair comparison\n",
    "\n",
    "# Weekend Plot\n",
    "plt.subplot(1,2,2)\n",
    "\n",
    "plt.plot(\n",
    "    by_hour_weekend['traffic_volume'],\n",
    "    color='salmon',\n",
    "    marker='o',\n",
    "    linestyle='-'\n",
    ")\n",
    "plt.grid(True)\n",
    "plt.title('Mean Traffic Volume per \\n Hour on weekend')\n",
    "plt.xlabel('Time of Day (Hour)')\n",
    "plt.ylabel('Average Vehicle/Hour')\n",
    "plt.ylim(1500, 7000)  # Keep scales identical for fair comparison\n",
    "\n",
    "# Shared formatting\n",
    "plt.suptitle('Hourly Traffic Comparison', fontweight='bold')\n",
    "plt.tight_layout()"
   ]
  },
  {
   "cell_type": "markdown",
   "metadata": {},
   "source": [
    "## Observations\n",
    "### Hourly Traffic Patterns\n",
    "\n",
    "#### 🏙️ Business Days\n",
    "- **Rush Hour Peaks:**\n",
    "\n",
    "  - Morning surge: **7-9 AM** (~6,500 vehicles)\n",
    "\n",
    "  - Evening surge: **4-6 PM** (~6,200 vehicles)\n",
    "\n",
    "- **Commuter Pattern:** Traffic mirrors standard work hours (9 AM–5 PM baseline).\n",
    "\n",
    "#### 🌇 Weekends\n",
    "- **Leisure Travel:**\n",
    "\n",
    "  - Gradual midday peak (**12 PM–4 PM** ~4,500 vehicles)\n",
    "\n",
    "  - 30% lower volumes compared to business days\n",
    "\n",
    "- **Early morning:** Minimal traffic (<2,000 vehicles at **7 AM**)"
   ]
  },
  {
   "cell_type": "markdown",
   "metadata": {},
   "source": [
    "# Summary observation \n",
    "\n",
    "## 📅 **Monthly Patterns**  \n",
    "- **Peak Months**: March–October (~4,850–4,920 vehicles), peaking in **May** (4,911).  \n",
    "- **Low Months**: December (4,374) and July (4,595) due to holidays/summer vacations.  \n",
    "- **Insight**: Seasonal commuter dominance with predictable drops during holidays.  \n",
    "\n",
    "---\n",
    "\n",
    "## 📆 **Weekly Patterns**  \n",
    "- **Workdays**:  \n",
    "  - Highest on **Wednesday** (5,311 vehicles).  \n",
    "  - Consistent high volume Monday-Friday (~4,900–5,300).  \n",
    "- **Weekends**:  \n",
    "  - 26–34% drop (Saturday: 3,927; Sunday: 3,436).  \n",
    "- **Insight**: Traffic aligns with traditional work schedules.  \n",
    "\n",
    "---\n",
    "\n",
    "## 🕒 **Hourly Patterns**  \n",
    "- **Business Days**:  \n",
    "  - **Morning Rush**: 7–9 AM (~6,500 vehicles).  \n",
    "  - **Evening Rush**: 4–6 PM (~6,200 vehicles).  \n",
    "- **Weekends**:  \n",
    "  - Midday leisure peak: 12–4 PM (~4,500 vehicles).  \n",
    "- **Insight**: Clear commuter vs. leisure-driven patterns.  \n",
    "\n",
    "---\n",
    "\n",
    "**Conclusion**:  \n",
    "Traffic on I-94 Westbound follows **predictable human behavior** tied to work, leisure, and seasons."
   ]
  },
  {
   "cell_type": "markdown",
   "metadata": {},
   "source": [
    "# Weather Indicators"
   ]
  },
  {
   "cell_type": "markdown",
   "metadata": {},
   "source": [
    "The dataset provides us with a few useful columns about weather: temp, rain_1h, snow_1h, clouds_all, weather_main, weather_description.\n",
    "A few of these columns are numerical (for instance : **temp, rain_1h, snow_1h, and clouds_all** ) so let's start by looking up their correlation values with traffic_volume."
   ]
  },
  {
   "cell_type": "code",
   "execution_count": null,
   "metadata": {},
   "outputs": [],
   "source": [
    "daytime_data[['traffic_volume', 'temp', 'rain_1h', 'snow_1h', 'clouds_all']].corr()"
   ]
  },
  {
   "cell_type": "markdown",
   "metadata": {},
   "source": [
    "### Key Observations  \n",
    "1. **Weak Temperature Correlation**:  \n",
    "   - The `temp` column has the strongest correlation with traffic volume (r = 0.128), but this is still **weak**.  \n",
    "   - Higher temperatures *slightly* correlate with busier roads (e.g., summer months).  \n",
    "\n",
    "2. **No Meaningful Weather Relationships**:  \n",
    "   - Precipitation (`rain_1h`, `snow_1h`) and cloud cover (`clouds_all`) show **no practical correlation** with traffic volume.  \n",
    "\n",
    "3. **Scatter Plot Insights**:  \n",
    "   - A plot of `temp` vs. `traffic_volume` (not shown here) would likely show **no clear linear pattern**, confirming the weak correlation.  \n",
    "\n",
    "---\n",
    "\n",
    "## Conclusion  \n",
    "**No weather column is a reliable indicator of heavy traffic** based on this dataset. The strongest correlation (`temp`) is too weak to draw actionable conclusions.  "
   ]
  },
  {
   "cell_type": "markdown",
   "metadata": {},
   "source": [
    "To see if we can find more useful data, we'll look next at the categorical weather-related columns: `weather_main` and `weather_description`."
   ]
  },
  {
   "cell_type": "code",
   "execution_count": null,
   "metadata": {},
   "outputs": [],
   "source": [
    "by_weather_main = daytime_data.groupby('weather_main').mean(numeric_only=True)\n",
    "by_weather_description = daytime_data.groupby('weather_description').mean(numeric_only=True)"
   ]
  },
  {
   "cell_type": "code",
   "execution_count": null,
   "metadata": {},
   "outputs": [],
   "source": [
    "by_weather_main"
   ]
  },
  {
   "cell_type": "code",
   "execution_count": null,
   "metadata": {},
   "outputs": [],
   "source": [
    "plt.bar(\n",
    "    by_weather_main.index,\n",
    "    by_weather_main['traffic_volume']\n",
    ")\n",
    "plt.title('Average Traffic Volume by Weather Condition')\n",
    "plt.xlabel('Weather Type')\n",
    "plt.ylabel('Average Traffic Volume')\n",
    "plt.xticks(rotation = 30)\n",
    "plt.grid(True)\n",
    "plt.show()"
   ]
  },
  {
   "cell_type": "markdown",
   "metadata": {},
   "source": [
    "## Key Observations from `weather_main` Bar Plot  \n",
    "- **Near-Threshold Volumes**:  \n",
    "  - Weather types like **Rain** and **Clouds** show average traffic volumes close to **~4,900 cars**, approaching but not exceeding 5,000.  \n",
    "  - **Clear** weather averages **~4,750 cars**.  \n",
    "\n",
    "- **No Clear Heavy Traffic Indicators**:  \n",
    "  - No weather type in `weather_main` consistently exceeds **5,000 cars** threshold for \"heavy traffic.\"  "
   ]
  },
  {
   "cell_type": "code",
   "execution_count": null,
   "metadata": {},
   "outputs": [],
   "source": [
    "by_weather_description"
   ]
  },
  {
   "cell_type": "code",
   "execution_count": null,
   "metadata": {},
   "outputs": [],
   "source": [
    "plt.figure(figsize=(7,7))\n",
    "plt.barh(\n",
    "    by_weather_description.index,\n",
    "    by_weather_description['traffic_volume'], \n",
    "    color = 'salmon'\n",
    ")\n",
    "plt.title('Average Traffic Volume by Weather Particularity')\n",
    "plt.ylabel('Weather Description')\n",
    "plt.xlabel('Average Traffic Volume')\n",
    "plt.yticks(fontsize = 8)\n",
    "plt.grid(True)\n",
    "\n",
    "plt.show()"
   ]
  },
  {
   "cell_type": "markdown",
   "metadata": {},
   "source": [
    "### Key Findings  \n",
    "1. **Threshold Exceedance in Granular Weather Types**:  \n",
    "   - **Highest Traffic Volumes**:  \n",
    "     - `shower snow`: ~5,200 cars  \n",
    "     - `thunderstorm with heavy rain`: ~5,100 cars  \n",
    "   - These are the **only weather descriptions** exceeding the 5,000-car threshold.  \n",
    "\n",
    "2. **Rarity of High-Traffic Weather Events**:  \n",
    "   - Both `shower snow` and `thunderstorm with heavy rain` are **rare occurrences**, making them unreliable as frequent indicators.  \n",
    "\n",
    "3. **Broad Weather Categories vs. Specific Descriptions**:  \n",
    "   - Generic `weather_main` categories (e.g., \"Rain\", \"Clouds\") show **no correlation** with heavy traffic.  \n",
    "   - Detailed `weather_description` entries reveal niche patterns but lack consistency.  \n",
    "\n",
    "---\n",
    "\n",
    "### Reliability of Weather Indicators  \n",
    "- **No standalone weather type** (main or description) reliably predicts heavy traffic.  \n",
    "- Observed high-traffic weather events:  \n",
    "  - **Context-dependent**: Likely tied to **unplanned disruptions** (e.g., accidents during storms).  \n",
    "  - **Not causal**: Correlation ≠ causation (e.g., traffic jams during snow may stem from accidents, not snow itself).  \n",
    "\n",
    "---\n",
    "\n",
    "### Project Conclusion  \n",
    "**Weather alone is not a robust predictor of heavy traffic**. To improve accuracy:  \n",
    "1. **Combine with temporal data**: Analyze \"rush hour + heavy rain\".  \n",
    "2. **Integrate incident reports**: Pair weather with accident/construction data.  \n",
    "\n",
    "> *\"Data whispers patterns; context shouts insights.\"* 🌧️🚗"
   ]
  }
 ],
 "metadata": {
  "kernelspec": {
   "display_name": "Python 3 (ipykernel)",
   "language": "python",
   "name": "python3"
  },
  "language_info": {
   "codemirror_mode": {
    "name": "ipython",
    "version": 3
   },
   "file_extension": ".py",
   "mimetype": "text/x-python",
   "name": "python",
   "nbconvert_exporter": "python",
   "pygments_lexer": "ipython3",
   "version": "3.13.1"
  }
 },
 "nbformat": 4,
 "nbformat_minor": 4
}
